{
 "cells": [
  {
   "cell_type": "code",
   "execution_count": 1,
   "id": "db8ad21d",
   "metadata": {
    "tags": []
   },
   "outputs": [
    {
     "name": "stdout",
     "output_type": "stream",
     "text": [
      "Requirement already satisfied: flask in c:\\users\\abhin\\anaconda3\\lib\\site-packages (2.2.2)Note: you may need to restart the kernel to use updated packages.\n",
      "\n",
      "Requirement already satisfied: Werkzeug>=2.2.2 in c:\\users\\abhin\\anaconda3\\lib\\site-packages (from flask) (2.2.3)\n",
      "Requirement already satisfied: Jinja2>=3.0 in c:\\users\\abhin\\anaconda3\\lib\\site-packages (from flask) (3.1.2)\n",
      "Requirement already satisfied: itsdangerous>=2.0 in c:\\users\\abhin\\anaconda3\\lib\\site-packages (from flask) (2.0.1)\n",
      "Requirement already satisfied: click>=8.0 in c:\\users\\abhin\\anaconda3\\lib\\site-packages (from flask) (8.0.4)\n",
      "Requirement already satisfied: colorama in c:\\users\\abhin\\anaconda3\\lib\\site-packages (from click>=8.0->flask) (0.4.6)\n",
      "Requirement already satisfied: MarkupSafe>=2.0 in c:\\users\\abhin\\anaconda3\\lib\\site-packages (from Jinja2>=3.0->flask) (2.1.1)\n"
     ]
    }
   ],
   "source": [
    "pip install flask"
   ]
  },
  {
   "cell_type": "code",
   "execution_count": 3,
   "id": "9ebdb4b6-1e81-483c-9093-cebae20ffcda",
   "metadata": {
    "tags": []
   },
   "outputs": [
    {
     "name": "stdout",
     "output_type": "stream",
     "text": [
      "Requirement already satisfied: flask_cors in c:\\users\\abhin\\anaconda3\\lib\\site-packages (4.0.0)\n",
      "Requirement already satisfied: Flask>=0.9 in c:\\users\\abhin\\anaconda3\\lib\\site-packages (from flask_cors) (2.2.2)\n",
      "Requirement already satisfied: Werkzeug>=2.2.2 in c:\\users\\abhin\\anaconda3\\lib\\site-packages (from Flask>=0.9->flask_cors) (2.2.3)\n",
      "Requirement already satisfied: Jinja2>=3.0 in c:\\users\\abhin\\anaconda3\\lib\\site-packages (from Flask>=0.9->flask_cors) (3.1.2)\n",
      "Requirement already satisfied: itsdangerous>=2.0 in c:\\users\\abhin\\anaconda3\\lib\\site-packages (from Flask>=0.9->flask_cors) (2.0.1)\n",
      "Requirement already satisfied: click>=8.0 in c:\\users\\abhin\\anaconda3\\lib\\site-packages (from Flask>=0.9->flask_cors) (8.0.4)\n",
      "Requirement already satisfied: colorama in c:\\users\\abhin\\anaconda3\\lib\\site-packages (from click>=8.0->Flask>=0.9->flask_cors) (0.4.6)\n",
      "Requirement already satisfied: MarkupSafe>=2.0 in c:\\users\\abhin\\anaconda3\\lib\\site-packages (from Jinja2>=3.0->Flask>=0.9->flask_cors) (2.1.1)\n",
      "Note: you may need to restart the kernel to use updated packages.\n"
     ]
    }
   ],
   "source": [
    "pip install flask_cors"
   ]
  },
  {
   "cell_type": "code",
   "execution_count": 4,
   "id": "5c2fa770-735a-480c-91d0-cd70b2ba6ab2",
   "metadata": {
    "tags": []
   },
   "outputs": [],
   "source": [
    "from flask import Flask, render_template, request, jsonify\n",
    "from flask_cors import CORS, cross_origin\n",
    "import requests\n",
    "from bs4 import BeautifulSoup as bs\n",
    "from urllib.request import urlopen as uReq"
   ]
  },
  {
   "cell_type": "code",
   "execution_count": 5,
   "id": "5d32e451-0272-415d-8967-751ba9401357",
   "metadata": {
    "tags": []
   },
   "outputs": [],
   "source": [
    "searchstring= \"iphone11\""
   ]
  },
  {
   "cell_type": "code",
   "execution_count": 6,
   "id": "ff90ff10-8503-43e1-99a9-51480fa8b8df",
   "metadata": {
    "tags": []
   },
   "outputs": [],
   "source": [
    "flipkart_url = \"https://www.flipkart.com/search?q=\" + searchstring\n"
   ]
  },
  {
   "cell_type": "code",
   "execution_count": 7,
   "id": "89db0d95-053a-41d8-9538-e92e0a665909",
   "metadata": {
    "tags": []
   },
   "outputs": [
    {
     "data": {
      "text/plain": [
       "'https://www.flipkart.com/search?q=iphone11'"
      ]
     },
     "execution_count": 7,
     "metadata": {},
     "output_type": "execute_result"
    }
   ],
   "source": [
    "flipkart_url"
   ]
  },
  {
   "cell_type": "code",
   "execution_count": 8,
   "id": "9925d7f1-239c-4bde-acaa-9651f94cf3b8",
   "metadata": {
    "tags": []
   },
   "outputs": [],
   "source": [
    "uclient = uReq(flipkart_url)"
   ]
  },
  {
   "cell_type": "code",
   "execution_count": 9,
   "id": "656e4006-c204-43c9-82ab-b8ffcc32ab8a",
   "metadata": {
    "tags": []
   },
   "outputs": [
    {
     "data": {
      "text/plain": [
       "<http.client.HTTPResponse at 0x1d900354f10>"
      ]
     },
     "execution_count": 9,
     "metadata": {},
     "output_type": "execute_result"
    }
   ],
   "source": [
    "uclient"
   ]
  },
  {
   "cell_type": "code",
   "execution_count": 10,
   "id": "f7d93c66-66c3-4d36-a18a-f63291eaecb5",
   "metadata": {
    "tags": []
   },
   "outputs": [],
   "source": [
    "flipkartpage= uclient.read()"
   ]
  },
  {
   "cell_type": "code",
   "execution_count": 11,
   "id": "2ca46e79-b2b2-4472-9d33-45f6998e6b8d",
   "metadata": {
    "tags": []
   },
   "outputs": [],
   "source": [
    "flipkart_html = bs(flipkartpage,\"html.parser\")"
   ]
  },
  {
   "cell_type": "code",
   "execution_count": 12,
   "id": "effa84fa-253e-4ce2-98f0-f5f7be858c86",
   "metadata": {
    "tags": []
   },
   "outputs": [
    {
     "data": {
      "text/plain": [
       "'https://www.flipkart.com/apple-iphone-11-white-128-gb/p/itme32df47ea6742?pid=MOBFWQ6B7KKRXDDS&lid=LSTMOBFWQ6B7KKRXDDSULUZ0N&marketplace=FLIPKART&q=iphone11&store=tyy%2F4io&srno=s_1_1&otracker=search&iid=1a7d6e12-960f-485c-8380-2cb8dc49a077.MOBFWQ6B7KKRXDDS.SEARCH&ssid=vuttur3d740000001676109727214&qH=d6db477051465f9a'"
      ]
     },
     "execution_count": 12,
     "metadata": {},
     "output_type": "execute_result"
    }
   ],
   "source": [
    "'https://www.flipkart.com/apple-iphone-11-white-128-gb/p/itme32df47ea6742?pid=MOBFWQ6B7KKRXDDS&lid=LSTMOBFWQ6B7KKRXDDSULUZ0N&marketplace=FLIPKART&q=iphone11&store=tyy%2F4io&srno=s_1_1&otracker=search&iid=1a7d6e12-960f-485c-8380-2cb8dc49a077.MOBFWQ6B7KKRXDDS.SEARCH&ssid=vuttur3d740000001676109727214&qH=d6db477051465f9a'"
   ]
  },
  {
   "cell_type": "code",
   "execution_count": 13,
   "id": "f236325d-60ad-4bf3-bac4-76e31d95a3ae",
   "metadata": {
    "tags": []
   },
   "outputs": [],
   "source": [
    "bigboxes = flipkart_html.findAll(\"div\" , {\"class\": \"_1AtVbE col-12-12\"})\n"
   ]
  },
  {
   "cell_type": "code",
   "execution_count": 14,
   "id": "5a4e2371-bc1a-40d8-958f-018729e8674f",
   "metadata": {
    "tags": []
   },
   "outputs": [
    {
     "data": {
      "text/plain": [
       "30"
      ]
     },
     "execution_count": 14,
     "metadata": {},
     "output_type": "execute_result"
    }
   ],
   "source": [
    "len(bigboxes)"
   ]
  },
  {
   "cell_type": "code",
   "execution_count": 15,
   "id": "73a65a60-9756-4466-948c-a9aac9e65b2b",
   "metadata": {
    "tags": []
   },
   "outputs": [],
   "source": [
    "box =bigboxes[2]"
   ]
  },
  {
   "cell_type": "code",
   "execution_count": 16,
   "id": "c7a34208-cf5a-445d-869f-0da3276a8434",
   "metadata": {
    "tags": []
   },
   "outputs": [
    {
     "data": {
      "text/plain": [
       "'https://www.flipkart.com/apple-iphone-11-white-128-gb/p/itme32df47ea6742?pid=MOBFWQ6B7KKRXDDS&lid=LSTMOBFWQ6B7KKRXDDSULUZ0N&marketplace=FLIPKART&q=iphone11&store=tyy%2F4io&srno=s_1_1&otracker=search&iid=1a7d6e12-960f-485c-8380-2cb8dc49a077.MOBFWQ6B7KKRXDDS.SEARCH&ssid=vuttur3d740000001676109727214&qH=d6db477051465f9a'"
      ]
     },
     "execution_count": 16,
     "metadata": {},
     "output_type": "execute_result"
    }
   ],
   "source": [
    "'https://www.flipkart.com/apple-iphone-11-white-128-gb/p/itme32df47ea6742?pid=MOBFWQ6B7KKRXDDS&lid=LSTMOBFWQ6B7KKRXDDSULUZ0N&marketplace=FLIPKART&q=iphone11&store=tyy%2F4io&srno=s_1_1&otracker=search&iid=1a7d6e12-960f-485c-8380-2cb8dc49a077.MOBFWQ6B7KKRXDDS.SEARCH&ssid=vuttur3d740000001676109727214&qH=d6db477051465f9a'"
   ]
  },
  {
   "cell_type": "code",
   "execution_count": 17,
   "id": "1daba943-2378-4455-ac08-0831a4ce5904",
   "metadata": {
    "tags": []
   },
   "outputs": [],
   "source": [
    "productlink = \"https://www.flipkart.com\"+box.div.div.div.a['href']"
   ]
  },
  {
   "cell_type": "code",
   "execution_count": 18,
   "id": "8e2b2f93-6b8e-454d-9ddf-fe452912485b",
   "metadata": {
    "tags": []
   },
   "outputs": [
    {
     "data": {
      "text/plain": [
       "'https://www.flipkart.com/apple-iphone-11-white-128-gb/p/itme32df47ea6742?pid=MOBFWQ6B7KKRXDDS&lid=LSTMOBFWQ6B7KKRXDDSULUZ0N&marketplace=FLIPKART&q=iphone11&store=tyy%2F4io&srno=s_1_1&otracker=search&fm=organic&iid=f8a7c19b-247b-4cfa-abf8-53b0c0bc474b.MOBFWQ6B7KKRXDDS.SEARCH&ppt=None&ppn=None&ssid=6bh7kzos000000001690213190040&qH=d6db477051465f9a'"
      ]
     },
     "execution_count": 18,
     "metadata": {},
     "output_type": "execute_result"
    }
   ],
   "source": [
    "productlink"
   ]
  },
  {
   "cell_type": "code",
   "execution_count": 19,
   "id": "4099e61f-fdd2-48b9-9bb8-880ea9e4a076",
   "metadata": {
    "tags": []
   },
   "outputs": [],
   "source": [
    "productreq= requests.get(productlink)"
   ]
  },
  {
   "cell_type": "code",
   "execution_count": 20,
   "id": "63c7ddac-08b2-44f6-8368-1f573e929e03",
   "metadata": {
    "tags": []
   },
   "outputs": [
    {
     "data": {
      "text/plain": [
       "<Response [200]>"
      ]
     },
     "execution_count": 20,
     "metadata": {},
     "output_type": "execute_result"
    }
   ],
   "source": [
    "productreq"
   ]
  },
  {
   "cell_type": "code",
   "execution_count": 21,
   "id": "ea7ab8cf-d198-4863-86af-b02cbcb05c6a",
   "metadata": {
    "tags": []
   },
   "outputs": [],
   "source": [
    "prod_html = bs(productreq.text,\"html.parser\")"
   ]
  },
  {
   "cell_type": "code",
   "execution_count": 22,
   "id": "8e1aed83-02af-465c-a1ff-87e6c81cda5b",
   "metadata": {
    "tags": []
   },
   "outputs": [],
   "source": [
    "comment_box=prod_html.find_all(\"div\",{\"class\": \"_16PBlm\"})"
   ]
  },
  {
   "cell_type": "code",
   "execution_count": 23,
   "id": "d3eadce8-8598-429c-a01d-8e451c459b7b",
   "metadata": {
    "tags": []
   },
   "outputs": [
    {
     "data": {
      "text/plain": [
       "11"
      ]
     },
     "execution_count": 23,
     "metadata": {},
     "output_type": "execute_result"
    }
   ],
   "source": [
    "len(comment_box)"
   ]
  },
  {
   "cell_type": "code",
   "execution_count": 24,
   "id": "1907e897-cac8-43c9-a508-386310146e27",
   "metadata": {
    "tags": []
   },
   "outputs": [
    {
     "name": "stdout",
     "output_type": "stream",
     "text": [
      "5\n",
      "5\n",
      "5\n",
      "5\n",
      "5\n",
      "5\n",
      "5\n",
      "5\n",
      "5\n",
      "5\n"
     ]
    },
    {
     "ename": "AttributeError",
     "evalue": "'NoneType' object has no attribute 'div'",
     "output_type": "error",
     "traceback": [
      "\u001b[1;31m---------------------------------------------------------------------------\u001b[0m",
      "\u001b[1;31mAttributeError\u001b[0m                            Traceback (most recent call last)",
      "Cell \u001b[1;32mIn[24], line 2\u001b[0m\n\u001b[0;32m      1\u001b[0m \u001b[38;5;28;01mfor\u001b[39;00m i \u001b[38;5;129;01min\u001b[39;00m comment_box:\n\u001b[1;32m----> 2\u001b[0m     \u001b[38;5;28mprint\u001b[39m(i\u001b[38;5;241m.\u001b[39mdiv\u001b[38;5;241m.\u001b[39mdiv\u001b[38;5;241m.\u001b[39mdiv\u001b[38;5;241m.\u001b[39mdiv\u001b[38;5;241m.\u001b[39mtext)\n",
      "\u001b[1;31mAttributeError\u001b[0m: 'NoneType' object has no attribute 'div'"
     ]
    }
   ],
   "source": [
    "for i in comment_box:\n",
    "    print(i.div.div.div.div.text)"
   ]
  },
  {
   "cell_type": "code",
   "execution_count": null,
   "id": "4a635d5a-f928-4bf8-899d-3cb887b14298",
   "metadata": {
    "tags": []
   },
   "outputs": [],
   "source": [
    "comment_box[1].div.div.find_all(\"div\", {\"class\": \"\"})[0].div.text"
   ]
  },
  {
   "cell_type": "code",
   "execution_count": 25,
   "id": "db5e6915-5698-4f0e-a75b-5259912cbdba",
   "metadata": {
    "tags": []
   },
   "outputs": [
    {
     "name": "stdout",
     "output_type": "stream",
     "text": [
      "Very very good\n",
      "Camera is awesomeBest battery backupA performer 👌🏻It will be a real value for money if they provide charger and earphone inbox!\n",
      "This is amazing at all\n",
      "Photos super\n",
      "It’s really awesome\n",
      "Super🔥 and good performance 👌❤️\n",
      "V Good all\n",
      "Perfect Product!!\n",
      "Good Camera\n",
      "Feeling awesome after getting the delivery of my phone. Dual speakers makes the sound quality very loud. Amazing!!\n"
     ]
    },
    {
     "ename": "AttributeError",
     "evalue": "'NoneType' object has no attribute 'div'",
     "output_type": "error",
     "traceback": [
      "\u001b[1;31m---------------------------------------------------------------------------\u001b[0m",
      "\u001b[1;31mAttributeError\u001b[0m                            Traceback (most recent call last)",
      "Cell \u001b[1;32mIn[25], line 2\u001b[0m\n\u001b[0;32m      1\u001b[0m \u001b[38;5;28;01mfor\u001b[39;00m i \u001b[38;5;129;01min\u001b[39;00m comment_box:\n\u001b[1;32m----> 2\u001b[0m     \u001b[38;5;28mprint\u001b[39m(i\u001b[38;5;241m.\u001b[39mdiv\u001b[38;5;241m.\u001b[39mdiv\u001b[38;5;241m.\u001b[39mfind_all(\u001b[38;5;124m\"\u001b[39m\u001b[38;5;124mdiv\u001b[39m\u001b[38;5;124m\"\u001b[39m, {\u001b[38;5;124m\"\u001b[39m\u001b[38;5;124mclass\u001b[39m\u001b[38;5;124m\"\u001b[39m: \u001b[38;5;124m\"\u001b[39m\u001b[38;5;124m\"\u001b[39m})[\u001b[38;5;241m0\u001b[39m]\u001b[38;5;241m.\u001b[39mdiv\u001b[38;5;241m.\u001b[39mtext)\n",
      "\u001b[1;31mAttributeError\u001b[0m: 'NoneType' object has no attribute 'div'"
     ]
    }
   ],
   "source": [
    "for i in comment_box:\n",
    "    print(i.div.div.find_all(\"div\", {\"class\": \"\"})[0].div.text)"
   ]
  },
  {
   "cell_type": "code",
   "execution_count": 26,
   "id": "178bd246-b1cf-492f-b8f5-71990624bc2f",
   "metadata": {
    "tags": []
   },
   "outputs": [
    {
     "data": {
      "text/plain": [
       "'vikash  Yadav'"
      ]
     },
     "execution_count": 26,
     "metadata": {},
     "output_type": "execute_result"
    }
   ],
   "source": [
    "comment_box[4].div.div.find_all(\"p\", {\"class\": \"_2sc7ZR _2V5EHH\"})[0].text"
   ]
  },
  {
   "cell_type": "code",
   "execution_count": 27,
   "id": "ed41cfe3-d58a-4cac-b400-fbd11d40a10a",
   "metadata": {
    "tags": []
   },
   "outputs": [
    {
     "name": "stdout",
     "output_type": "stream",
     "text": [
      "Manish  Deshlahare\n",
      "Vishnu Ramakrishnan\n",
      "Flipkart Customer\n",
      "siva sankar\n",
      "vikash  Yadav\n",
      "Sakshi Bharti\n",
      "Kuldeep Kumar\n",
      "Vikram rapolu\n",
      "Steevan Rattra \n",
      "Abhishek Sachdeva\n"
     ]
    },
    {
     "ename": "AttributeError",
     "evalue": "'NoneType' object has no attribute 'div'",
     "output_type": "error",
     "traceback": [
      "\u001b[1;31m---------------------------------------------------------------------------\u001b[0m",
      "\u001b[1;31mAttributeError\u001b[0m                            Traceback (most recent call last)",
      "Cell \u001b[1;32mIn[27], line 2\u001b[0m\n\u001b[0;32m      1\u001b[0m \u001b[38;5;28;01mfor\u001b[39;00m i \u001b[38;5;129;01min\u001b[39;00m comment_box:\n\u001b[1;32m----> 2\u001b[0m     \u001b[38;5;28mprint\u001b[39m(i\u001b[38;5;241m.\u001b[39mdiv\u001b[38;5;241m.\u001b[39mdiv\u001b[38;5;241m.\u001b[39mfind_all(\u001b[38;5;124m\"\u001b[39m\u001b[38;5;124mp\u001b[39m\u001b[38;5;124m\"\u001b[39m, {\u001b[38;5;124m\"\u001b[39m\u001b[38;5;124mclass\u001b[39m\u001b[38;5;124m\"\u001b[39m: \u001b[38;5;124m\"\u001b[39m\u001b[38;5;124m_2sc7ZR _2V5EHH\u001b[39m\u001b[38;5;124m\"\u001b[39m})[\u001b[38;5;241m0\u001b[39m]\u001b[38;5;241m.\u001b[39mtext)\n",
      "\u001b[1;31mAttributeError\u001b[0m: 'NoneType' object has no attribute 'div'"
     ]
    }
   ],
   "source": [
    "for i in comment_box:\n",
    "    print(i.div.div.find_all(\"p\", {\"class\": \"_2sc7ZR _2V5EHH\"})[0].text)"
   ]
  }
 ],
 "metadata": {
  "kernelspec": {
   "display_name": "Python 3 (ipykernel)",
   "language": "python",
   "name": "python3"
  },
  "language_info": {
   "codemirror_mode": {
    "name": "ipython",
    "version": 3
   },
   "file_extension": ".py",
   "mimetype": "text/x-python",
   "name": "python",
   "nbconvert_exporter": "python",
   "pygments_lexer": "ipython3",
   "version": "3.11.3"
  },
  "toc-autonumbering": true,
  "toc-showcode": false,
  "toc-showmarkdowntxt": true,
  "toc-showtags": false
 },
 "nbformat": 4,
 "nbformat_minor": 5
}
